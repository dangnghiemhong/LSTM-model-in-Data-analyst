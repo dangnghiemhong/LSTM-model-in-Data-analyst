{
 "cells": [
  {
   "cell_type": "code",
   "execution_count": 3,
   "id": "c526180e",
   "metadata": {},
   "outputs": [
    {
     "ename": "ModuleNotFoundError",
     "evalue": "No module named 'keras'",
     "output_type": "error",
     "traceback": [
      "\u001b[1;31m---------------------------------------------------------------------------\u001b[0m",
      "\u001b[1;31mModuleNotFoundError\u001b[0m                       Traceback (most recent call last)",
      "Cell \u001b[1;32mIn[3], line 5\u001b[0m\n\u001b[0;32m      3\u001b[0m \u001b[38;5;28;01mimport\u001b[39;00m \u001b[38;5;21;01mmatplotlib\u001b[39;00m\u001b[38;5;21;01m.\u001b[39;00m\u001b[38;5;21;01mpyplot\u001b[39;00m \u001b[38;5;28;01mas\u001b[39;00m \u001b[38;5;21;01mplt\u001b[39;00m \u001b[38;5;66;03m#vẽ biểu đồ\u001b[39;00m\n\u001b[0;32m      4\u001b[0m \u001b[38;5;28;01mfrom\u001b[39;00m \u001b[38;5;21;01msklearn\u001b[39;00m\u001b[38;5;21;01m.\u001b[39;00m\u001b[38;5;21;01mpreprocessing\u001b[39;00m \u001b[38;5;28;01mimport\u001b[39;00m MinMaxScaler \u001b[38;5;66;03m#chuẩn hóa dữ liệu\u001b[39;00m\n\u001b[1;32m----> 5\u001b[0m \u001b[38;5;28;01mfrom\u001b[39;00m \u001b[38;5;21;01mkeras\u001b[39;00m\u001b[38;5;21;01m.\u001b[39;00m\u001b[38;5;21;01mcallbacks\u001b[39;00m \u001b[38;5;28;01mimport\u001b[39;00m ModelCheckpoint \u001b[38;5;66;03m#lưu lại huấn luyện tốt nhất\u001b[39;00m\n\u001b[0;32m      6\u001b[0m \u001b[38;5;28;01mfrom\u001b[39;00m \u001b[38;5;21;01mtensorflow\u001b[39;00m\u001b[38;5;21;01m.\u001b[39;00m\u001b[38;5;21;01mkeras\u001b[39;00m\u001b[38;5;21;01m.\u001b[39;00m\u001b[38;5;21;01mmodels\u001b[39;00m \u001b[38;5;28;01mimport\u001b[39;00m load_model \u001b[38;5;66;03m#tải mô hình\u001b[39;00m\n\u001b[0;32m      8\u001b[0m \u001b[38;5;66;03m#các lớp để xây dựng mô hình\u001b[39;00m\n",
      "\u001b[1;31mModuleNotFoundError\u001b[0m: No module named 'keras'"
     ]
    }
   ],
   "source": [
    "import pandas as pd #đọc dữ liệu\n",
    "import numpy as np #xử lý dữ liệu\n",
    "import matplotlib.pyplot as plt #vẽ biểu đồ\n",
    "from sklearn.preprocessing import MinMaxScaler #chuẩn hóa dữ liệu\n",
    "from keras.callbacks import ModelCheckpoint #lưu lại huấn luyện tốt nhất\n",
    "from tensorflow.keras.models import load_model #tải mô hình\n",
    "\n",
    "#các lớp để xây dựng mô hình\n",
    "from keras.models import Sequential #đầu vào\n",
    "from keras.layers import LSTM #học phụ thuộc\n",
    "from keras.layers import Dropout #tránh học tủ\n",
    "from keras.layers import Dense #đầu ra\n",
    "\n",
    "#kiểm tra độ chính xác của mô hình\n",
    "from sklearn.metrics import r2_score #đo mức độ phù hợp\n",
    "from sklearn.metrics import mean_absolute_error #đo sai số tuyệt đối trung bình\n",
    "from sklearn.metrics import mean_absolute_percentage_error #đo % sai số tuyệt đối trung bình"
   ]
  },
  {
   "cell_type": "code",
   "execution_count": null,
   "id": "2c3771fc",
   "metadata": {},
   "outputs": [],
   "source": [
    "# đọc dữ liệu từ file csv\n",
    "df = pd.read_csv('C:\\Users\\ADMIN\\OneDrive - Hanoi University of Science and Technology\\Desktop\\data_Analyst\\data.csv')\n",
    "\n",
    "mae_results = []\n",
    "# Xóa hai dòng \"KL\" và \"Thay đổi %\" từ DataFrame dataSet\n",
    "df = df.drop(columns=[\"KL\", \"% Thay đổi\",\"Mở cửa\",\"Cao nhất\",\"Thấp nhất\"])\n",
    "\n",
    "#định dạng cấu trúc thời gian\n",
    "df[\"Ngày\"] = pd.to_datetime(df.Ngày,format=\"%d/%m/%Y\")\n",
    "\n",
    "df1 = pd.DataFrame(df,columns=['Ngày','Đóng cửa'])\n",
    "df1.index = df1.Ngày\n",
    "df1.drop('Ngày',axis=1,inplace=True)\n",
    "\n",
    "# #Tiền xử lý dữ liệu\n",
    "# from matplotlib.dates import YearLocator, DateFormatter, MonthLocator # Thêm MonthLocator vào để sửa lỗi\n",
    "\n",
    "# Sắp xếp lại dữ liệu theo thứ tự thời gian\n",
    "# df1 = df.sort_values(by='Ngày')\n",
    "\n",
    "# Chuyển đổi định dạng các cột giá thành số thực\n",
    "df1['Đóng cửa'] = df1['Đóng cửa'].str.replace(',', '').astype(float)\n",
    "\n",
    "df1.values"
   ]
  }
 ],
 "metadata": {
  "kernelspec": {
   "display_name": "Python 3 (ipykernel)",
   "language": "python",
   "name": "python3"
  },
  "language_info": {
   "codemirror_mode": {
    "name": "ipython",
    "version": 3
   },
   "file_extension": ".py",
   "mimetype": "text/x-python",
   "name": "python",
   "nbconvert_exporter": "python",
   "pygments_lexer": "ipython3",
   "version": "3.11.5"
  }
 },
 "nbformat": 4,
 "nbformat_minor": 5
}
